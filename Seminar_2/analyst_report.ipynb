{
 "cells": [
  {
   "cell_type": "markdown",
   "metadata": {},
   "source": [
    "# A simple analyst report using functions to add elements"
   ]
  },
  {
   "cell_type": "code",
   "execution_count": 44,
   "metadata": {},
   "outputs": [
    {
     "name": "stderr",
     "output_type": "stream",
     "text": [
      "[*********************100%***********************]  1 of 1 completed"
     ]
    },
    {
     "name": "stderr",
     "output_type": "stream",
     "text": [
      "\n"
     ]
    }
   ],
   "source": [
    "from fpdf import FPDF\n",
    "from fpdf.enums import XPos, YPos  # Import enums for positioning\n",
    "import get_commentary # this is the function created by one of the collaborators\n",
    "import create_stock_chart # this is the function created by one of the collaborators\n",
    "\n",
    "import importlib  # Import the importlib module\n",
    "# Force reload of the modules\n",
    "importlib.reload(get_commentary)\n",
    "importlib.reload(create_stock_chart)\n",
    "\n",
    "# Create a blank PDF and add a page\n",
    "pdf = FPDF()\n",
    "pdf.alias_nb_pages()  # Allows total page numbers to be referenced if needed\n",
    "pdf.add_page()        # Add the first page\n",
    "\n",
    "# Set font for the title\n",
    "pdf.set_font('Times', '', 20)\n",
    "pdf.set_text_color(0, 0, 255)\n",
    "\n",
    "# Add a centered title cell\n",
    "pdf.cell(0, 10, 'BHP Analyst report', 0, new_x=XPos.LMARGIN, new_y=YPos.NEXT, align='C')\n",
    "\n",
    "# Set font for the commentary\n",
    "pdf.set_font('Times', '', 12)\n",
    "pdf.set_text_color(0, 0, 0)\n",
    "\n",
    "# Add multi-line text using multi_cell for automatic wrapping\n",
    "commentary_string = get_commentary.read_commentary(\"commentary.txt\")\n",
    "pdf.multi_cell(0, 10, commentary_string)\n",
    "\n",
    "# Create a stock chart for stock between 2020-01-01 and 2021-01-01\n",
    "ticker = 'BHP.AX'\n",
    "start_date = '2020-01-01'\n",
    "end_date = '2021-01-01'\n",
    "plot_filename = create_stock_chart.create_stock_chart(ticker, start_date, end_date)\n",
    "\n",
    "# Add a new page to the PDF and embed the plot image\n",
    "pdf.image(plot_filename, x=10, w=190)  # Adjust x, y, and w as needed\n",
    "\n",
    "# Save the final PDF\n",
    "final_output_filename = \"Analyst_report_with_chart.pdf\"\n",
    "pdf.output(final_output_filename)\n",
    "\n"
   ]
  }
 ],
 "metadata": {
  "kernelspec": {
   "display_name": "Python 3",
   "language": "python",
   "name": "python3"
  },
  "language_info": {
   "codemirror_mode": {
    "name": "ipython",
    "version": 3
   },
   "file_extension": ".py",
   "mimetype": "text/x-python",
   "name": "python",
   "nbconvert_exporter": "python",
   "pygments_lexer": "ipython3",
   "version": "3.12.1"
  }
 },
 "nbformat": 4,
 "nbformat_minor": 2
}
