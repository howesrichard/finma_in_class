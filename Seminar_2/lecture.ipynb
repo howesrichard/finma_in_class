{
 "cells": [
  {
   "cell_type": "markdown",
   "metadata": {
    "slideshow": {
     "slide_type": "slide"
    }
   },
   "source": [
    "# Equity Research"
   ]
  },
  {
   "cell_type": "markdown",
   "metadata": {
    "slideshow": {
     "slide_type": "slide"
    }
   },
   "source": [
    "An equity research analyst is a professional who evaluates public companies and provides recommendations on whether to buy, sell, or hold their stocks."
   ]
  },
  {
   "cell_type": "markdown",
   "metadata": {
    "slideshow": {
     "slide_type": "fragment"
    }
   },
   "source": [
    "**Buy-Side Analysts** work for institutional investors such as hedge funds and asset managers. Their primary objective is to identify profitable investment opportunities that align with their firm’s strategy. They conduct in-depth research, build financial models, and analyze market trends to support portfolio managers in making buy, hold, or sell decisions. Unlike sell-side analysts, their research is proprietary, used internally to maximize returns rather than being published for external clients."
   ]
  },
  {
   "cell_type": "markdown",
   "metadata": {
    "slideshow": {
     "slide_type": "fragment"
    }
   },
   "source": [
    "**Sell-side Analysts** work for brokerage firms and investment banks, where they provide research reports, stock recommendations, and earnings forecasts to institutional and retail investors. Their role involves analyzing companies, forecasting earnings, and publishing reports with investment ratings (e.g., buy, hold, or sell). These insights help institutional and retail investors make informed decisions and also support their firm’s trading desks and investment banking activities. Unlike buy-side analysts, sell-side analysts focus on generating market insights and often engage with clients and media to discuss their findings."
   ]
  },
  {
   "cell_type": "markdown",
   "metadata": {
    "slideshow": {
     "slide_type": "slide"
    }
   },
   "source": [
    "Today we are going to put ourselves in the shoes of a **Sell-Side** Equity Analyst. \n",
    "\n",
    "We are going to look at some of the tools we can use in Python to assist in building an equity research report for publication.\n",
    "We are not so much focussed on the process of formulating the analysis such as building a DCF.\n",
    "Rather we want to learn how to use the tools that can automate some of the work we may do as an analyst."
   ]
  },
  {
   "cell_type": "markdown",
   "metadata": {
    "slideshow": {
     "slide_type": "fragment"
    }
   },
   "source": [
    "**Step 1** will be to create a few handy functions"
   ]
  },
  {
   "cell_type": "markdown",
   "metadata": {
    "slideshow": {
     "slide_type": "fragment"
    }
   },
   "source": [
    "**Step 2** will be to pull in some live data from an application programming interface (API)"
   ]
  },
  {
   "cell_type": "markdown",
   "metadata": {
    "slideshow": {
     "slide_type": "fragment"
    }
   },
   "source": [
    "**Step 3** will be to scrape data from a website"
   ]
  },
  {
   "cell_type": "markdown",
   "metadata": {
    "slideshow": {
     "slide_type": "fragment"
    }
   },
   "source": [
    "**Step 4** will be to learn how to apply some Python functionality to this data, including the functions we have created and creating some graphs"
   ]
  },
  {
   "cell_type": "markdown",
   "metadata": {
    "slideshow": {
     "slide_type": "fragment"
    }
   },
   "source": [
    "**Step 5** will be to create a pdf file and import a csv file into Python"
   ]
  },
  {
   "cell_type": "markdown",
   "metadata": {
    "slideshow": {
     "slide_type": "slide"
    }
   },
   "source": [
    "# Create some handy functions\n",
    "Here we are going to create some functions that we can call to do some calculations"
   ]
  },
  {
   "cell_type": "code",
   "execution_count": 1,
   "metadata": {
    "slideshow": {
     "slide_type": "subslide"
    }
   },
   "outputs": [],
   "source": [
    "# Function to calculate the P/E ratio of a stock\n",
    "def calculate_pe_ratio(price, earnings):\n",
    "    return price / earnings"
   ]
  },
  {
   "cell_type": "code",
   "execution_count": 2,
   "metadata": {
    "slideshow": {
     "slide_type": "subslide"
    }
   },
   "outputs": [],
   "source": [
    "# Function to calculate the dividend yield of a stock\n",
    "def calculate_dividend_yield(dividend, price):\n",
    "    return dividend / price"
   ]
  },
  {
   "cell_type": "code",
   "execution_count": 3,
   "metadata": {
    "slideshow": {
     "slide_type": "subslide"
    }
   },
   "outputs": [],
   "source": [
    "# Function to calculate the earnings per share of a stock\n",
    "def calculate_eps(net_income, shares_outstanding):\n",
    "    return net_income / shares_outstanding"
   ]
  },
  {
   "cell_type": "code",
   "execution_count": 4,
   "metadata": {
    "slideshow": {
     "slide_type": "subslide"
    }
   },
   "outputs": [],
   "source": [
    "# Function to calculate ROA of a stock\n",
    "def calculate_roa(net_income, total_assets):\n",
    "    return net_income / total_assets"
   ]
  },
  {
   "cell_type": "markdown",
   "metadata": {
    "slideshow": {
     "slide_type": "slide"
    }
   },
   "source": [
    "# Application Programming Interfaces (APIs)\n",
    "\n",
    "### Introducing APIs\n",
    " - An Application Programming Interface (API) is the means by which a computer program can interact with a service over the internet. \n",
    "\n",
    " ![Slide Image](images/API%20Diagram.jpg)\n",
    " "
   ]
  },
  {
   "cell_type": "markdown",
   "metadata": {
    "slideshow": {
     "slide_type": "slide"
    }
   },
   "source": [
    "### Why use APIs?\n",
    "\n",
    "- While we can use the browser (User Interface) in the simplest instance, implementing APIs into our program has many benefits:\n",
    "  - **Streamlining:** Sourcing data from websites, downloading the data in .csv format, and reading into our model requires a great deal of human labour (time costly and susceptible to human error). Accessing the data through an API directly is a much more streamline process.\n",
    "  - **Replicability:** If we write the API calls into our program dynamically, the model can update with new data in a single click. The source of this data is always known.\n",
    "  - **Customisability:** The data inputs can be altered to suit updated needs"
   ]
  },
  {
   "cell_type": "markdown",
   "metadata": {
    "slideshow": {
     "slide_type": "slide"
    }
   },
   "source": [
    "### Requests Python Library\n",
    "\n",
    "- “Requests” is a python library that enables interaction with REST APIs\n",
    "- The following are the main commands (“methods”) that are issued to a REST API:\n",
    "  - GET\n",
    "  - POST\n",
    "  - PUT\n",
    "  - DELETE\n",
    "- GET is the method we are going to be interested in since it enables us to retrieve data from a service\n",
    "- To install requests into your python environment, type the following at the terminal\n",
    "\n",
    "  - pip install requests\n",
    "\n",
    "![Slide Image](images/Requests.jpg)"
   ]
  },
  {
   "cell_type": "markdown",
   "metadata": {
    "slideshow": {
     "slide_type": "slide"
    }
   },
   "source": [
    "### Examples of APIs\n",
    "#### Weather API\n",
    "Open Meteo is a free and open-source weather data API that provides access to real-time and historical weather data for locations around the world. It offers a range of weather data, including temperature, humidity, wind speed, and precipitation. This code uses a user input for latitude and longitude and uses a GET request to retrieve the weather data."
   ]
  },
  {
   "cell_type": "code",
   "execution_count": 5,
   "metadata": {
    "slideshow": {
     "slide_type": "subslide"
    }
   },
   "outputs": [
    {
     "name": "stdout",
     "output_type": "stream",
     "text": [
      "Weather information at -33,151\n"
     ]
    },
    {
     "data": {
      "text/html": [
       "<div>\n",
       "<style scoped>\n",
       "    .dataframe tbody tr th:only-of-type {\n",
       "        vertical-align: middle;\n",
       "    }\n",
       "\n",
       "    .dataframe tbody tr th {\n",
       "        vertical-align: top;\n",
       "    }\n",
       "\n",
       "    .dataframe thead th {\n",
       "        text-align: right;\n",
       "    }\n",
       "</style>\n",
       "<table border=\"1\" class=\"dataframe\">\n",
       "  <thead>\n",
       "    <tr style=\"text-align: right;\">\n",
       "      <th></th>\n",
       "      <th>values</th>\n",
       "    </tr>\n",
       "  </thead>\n",
       "  <tbody>\n",
       "    <tr>\n",
       "      <th>time</th>\n",
       "      <td>2025-02-27T22:30</td>\n",
       "    </tr>\n",
       "    <tr>\n",
       "      <th>interval</th>\n",
       "      <td>900</td>\n",
       "    </tr>\n",
       "    <tr>\n",
       "      <th>temperature</th>\n",
       "      <td>26.6</td>\n",
       "    </tr>\n",
       "    <tr>\n",
       "      <th>windspeed</th>\n",
       "      <td>4.8</td>\n",
       "    </tr>\n",
       "    <tr>\n",
       "      <th>winddirection</th>\n",
       "      <td>347</td>\n",
       "    </tr>\n",
       "    <tr>\n",
       "      <th>is_day</th>\n",
       "      <td>1</td>\n",
       "    </tr>\n",
       "    <tr>\n",
       "      <th>weathercode</th>\n",
       "      <td>0</td>\n",
       "    </tr>\n",
       "  </tbody>\n",
       "</table>\n",
       "</div>"
      ],
      "text/plain": [
       "                         values\n",
       "time           2025-02-27T22:30\n",
       "interval                    900\n",
       "temperature                26.6\n",
       "windspeed                   4.8\n",
       "winddirection               347\n",
       "is_day                        1\n",
       "weathercode                   0"
      ]
     },
     "execution_count": 5,
     "metadata": {},
     "output_type": "execute_result"
    }
   ],
   "source": [
    "import requests\n",
    "import pandas as pd\n",
    "\n",
    "# Ask user for latitude and longitude (e.g., Sydney is -33.891228, 151.19585)\n",
    "latitude = input(\"Enter latitude: \")\n",
    "longitude = input(\"Enter longitude: \")\n",
    "\n",
    "# We construct a URL that is specific to the latitude and longitude the user inputted.\n",
    "url = f'https://api.open-meteo.com/v1/forecast?latitude={latitude}&longitude={longitude}&current_weather=true&hourly=temperature_2m,relativehumidity_2m,windspeed_10m'\n",
    "response = requests.get(url)    # We can then query this URL using a GET request\n",
    "data = response.json()          # Format the response to json\n",
    "\n",
    "current_weather = data['current_weather']\n",
    "print(f'Weather information at {latitude},{longitude}')\n",
    "pd.DataFrame.from_dict(current_weather, orient='index', columns=['values'])"
   ]
  },
  {
   "cell_type": "markdown",
   "metadata": {
    "slideshow": {
     "slide_type": "slide"
    }
   },
   "source": [
    "#### Joke of the Day API\n",
    "The \"Official Joke API\" is a free, public REST API that provides random jokes in JSON format. You can use it to retrieve jokes programmatically."
   ]
  },
  {
   "cell_type": "code",
   "execution_count": 6,
   "metadata": {
    "slideshow": {
     "slide_type": "subslide"
    }
   },
   "outputs": [
    {
     "name": "stdout",
     "output_type": "stream",
     "text": [
      "Due to complaints, Hawaii passed a law where you're not allowed to laugh above a certain decibel. \n",
      "You can only use a low ha.\n"
     ]
    }
   ],
   "source": [
    "url = \"https://official-joke-api.appspot.com/random_joke\"\n",
    "response = requests.get(url)\n",
    "\n",
    "joke = response.json()\n",
    "print(f\"{joke['setup']} \\n{joke['punchline']}\")"
   ]
  },
  {
   "cell_type": "markdown",
   "metadata": {
    "slideshow": {
     "slide_type": "slide"
    }
   },
   "source": [
    "### yfinance API\n",
    "yfinance is a Python library that allows you to download financial data from Yahoo Finance. It provides a simple and convenient way to access historical stock prices, dividend data, and other financial data for publicly traded companies. With yfinance, you can easily download data for multiple stocks at once and perform analysis on the data using popular Python libraries like Pandas and Matplotlib.\n",
    "\n",
    "We will start by using our previously defined functions to produce some ratios and indicators for the stock."
   ]
  },
  {
   "cell_type": "code",
   "execution_count": 7,
   "metadata": {
    "slideshow": {
     "slide_type": "subslide"
    }
   },
   "outputs": [
    {
     "name": "stdout",
     "output_type": "stream",
     "text": [
      "Chosen Stock: ANZ.AX \n",
      "Last Share Price: 29.89 \n",
      "PE Ratio: 13.60 \n",
      "Dividend Yield: 2.78% \n",
      "EPS: 2.20 \n",
      "ROA: 0.56%\n"
     ]
    }
   ],
   "source": [
    "import yfinance as yf\n",
    "\n",
    "# Take user input for ticker\n",
    "TICKER = input('Enter a stock ticker (e.g. BHP.AX): ').upper()\n",
    "\n",
    "try:\n",
    "    # Get stock information\n",
    "    stock = yf.Ticker(TICKER)\n",
    "    stock_prices = stock.history(period=\"10y\")\n",
    "    stock_info = stock.info\n",
    "    stock_financials = stock.financials\n",
    "    stock_balance_sheet = stock.balance_sheet\n",
    "\n",
    "    # Extract relevant information\n",
    "    last_price = stock_prices['Close'].iloc[-1]\n",
    "    earnings = stock_financials.loc[\"Net Income\"].iloc[0]\n",
    "    dividend = stock_info['lastDividendValue']\n",
    "    shares_outstanding = stock_info['sharesOutstanding']\n",
    "    total_assets = (stock_balance_sheet.loc[\"Total Assets\"].iloc[0] + stock_balance_sheet.loc[\"Total Assets\"].iloc[1]) / 2\n",
    "\n",
    "    dividend_yield = calculate_dividend_yield(dividend, last_price) * 100\n",
    "    eps = calculate_eps(earnings, shares_outstanding)\n",
    "    pe_ratio = calculate_pe_ratio(last_price, eps)\n",
    "    roa = calculate_roa(earnings, total_assets) * 100\n",
    "\n",
    "except Exception as e:\n",
    "    print(f\"Error: {e}\")\n",
    "\n",
    "print(f\"Chosen Stock: {TICKER} \\nLast Share Price: {last_price:.2f} \\nPE Ratio: {pe_ratio:.2f} \\nDividend Yield: {dividend_yield:.2f}% \\nEPS: {eps:.2f} \\nROA: {roa:.2f}%\")\n"
   ]
  },
  {
   "cell_type": "markdown",
   "metadata": {
    "slideshow": {
     "slide_type": "slide"
    }
   },
   "source": [
    "Now we will use the matplotlib package to graph the share price of our chosen stock."
   ]
  },
  {
   "cell_type": "code",
   "execution_count": 8,
   "metadata": {
    "slideshow": {
     "slide_type": "subslide"
    }
   },
   "outputs": [
    {
     "data": {
      "image/png": "[encoded data removed]",
      "text/plain": [
       "<Figure size 1000x500 with 1 Axes>"
      ]
     },
     "metadata": {},
     "output_type": "display_data"
    }
   ],
   "source": [
    "import matplotlib.pyplot as plt\n",
    "\n",
    "# Plot the stock prices\n",
    "plt.figure(figsize=(10, 5))\n",
    "plt.plot(stock_prices['Close'])\n",
    "plt.title(f\"{TICKER} Stock Prices\")\n",
    "plt.xlabel(\"Date\")\n",
    "plt.ylabel(\"Price\")\n",
    "plt.show()"
   ]
  },
  {
   "cell_type": "markdown",
   "metadata": {
    "slideshow": {
     "slide_type": "slide"
    }
   },
   "source": [
    "We can convert this code into a function which will allow us to run it on any stock."
   ]
  },
  {
   "cell_type": "code",
   "execution_count": 9,
   "metadata": {
    "slideshow": {
     "slide_type": "subslide"
    }
   },
   "outputs": [],
   "source": [
    "def calculate_ratios(ticker):\n",
    "    import yfinance as yf\n",
    "    import pandas as pd\n",
    "    import matplotlib.pyplot as plt\n",
    "\n",
    "    \n",
    "    # Initialize variables with default values\n",
    "    last_price = None\n",
    "    earnings = None\n",
    "    dividend = None\n",
    "    shares_outstanding = None\n",
    "    total_assets = None\n",
    "\n",
    "    try:\n",
    "        # Get stock information\n",
    "        stock = yf.Ticker(ticker)\n",
    "        stock_prices = stock.history(period=\"10y\")\n",
    "        stock_info = stock.info\n",
    "        stock_financials = stock.financials\n",
    "        stock_balance_sheet = stock.balance_sheet\n",
    "\n",
    "        # Extract relevant information\n",
    "        if not stock_prices.empty:\n",
    "            last_price = stock_prices['Close'].iloc[-1]\n",
    "        else:\n",
    "            print(\"Historical price data is empty.\")\n",
    "        \n",
    "        # Check if financials DataFrame has \"Net Income\" in its index\n",
    "        if not stock_financials.empty and \"Net Income\" in stock_financials.index:\n",
    "            earnings = stock_financials.loc[\"Net Income\"].iloc[0]\n",
    "        else:\n",
    "            print(\"Financials data missing 'Net Income'.\")\n",
    "        \n",
    "        if \"lastDividendValue\" in stock_info:\n",
    "            dividend = stock_info['lastDividendValue']\n",
    "        else:\n",
    "            print(\"Dividend information not available.\")\n",
    "        \n",
    "        if \"sharesOutstanding\" in stock_info:\n",
    "            shares_outstanding = stock_info['sharesOutstanding']\n",
    "        else:\n",
    "            print(\"Shares outstanding not available.\")\n",
    "        \n",
    "        # Check if balance sheet has \"Total Assets\" in its index\n",
    "        if not stock_balance_sheet.empty and \"Total Assets\" in stock_balance_sheet.index:\n",
    "            total_assets_series = stock_balance_sheet.loc[\"Total Assets\"]\n",
    "            if len(total_assets_series) >= 2:\n",
    "                total_assets = (total_assets_series.iloc[0] + total_assets_series.iloc[1]) / 2\n",
    "            else:\n",
    "                total_assets = total_assets_series.iloc[0]\n",
    "        else:\n",
    "            print(\"Balance sheet data missing 'Total Assets'.\")\n",
    "        \n",
    "        # Now print the calculated metrics if available.\n",
    "        print(f\"Chosen Stock: {ticker.upper()}\")\n",
    "        if last_price is not None:\n",
    "            print(f\"Last Share Price: {last_price:.2f}\")\n",
    "            if dividend is not None:\n",
    "                dividend_yield = calculate_dividend_yield(dividend, last_price) * 100\n",
    "                print(f\"Dividend Yield: {dividend_yield:.2f}%\")\n",
    "        if earnings is not None and shares_outstanding is not None:\n",
    "            eps = calculate_eps(earnings, shares_outstanding)\n",
    "            print(f\"EPS: {eps:.2f}\")\n",
    "            if last_price is not None:\n",
    "                pe_ratio = calculate_pe_ratio(last_price, eps)\n",
    "                print(f\"PE Ratio: {pe_ratio:.2f}\")\n",
    "        if earnings is not None and total_assets is not None:\n",
    "            roa = calculate_roa(earnings, total_assets) * 100\n",
    "            print(f\"ROA: {roa:.2f}%\")\n",
    "\n",
    "        if not stock_prices.empty:\n",
    "            # Plot the stock prices\n",
    "            plt.figure(figsize=(10, 5))\n",
    "            plt.plot(stock_prices['Close'])\n",
    "            plt.title(f\"{ticker} Stock Price Over Time\")\n",
    "            plt.xlabel(\"Date\")\n",
    "            plt.ylabel(\"Price\")\n",
    "            plt.show()\n",
    "    \n",
    "    except Exception as e:\n",
    "        print(f\"Error: {e}\")\n"
   ]
  },
  {
   "cell_type": "markdown",
   "metadata": {
    "slideshow": {
     "slide_type": "slide"
    }
   },
   "source": [
    "## Pandas read_html() function\n",
    "\n",
    "Pandas provides a `read_html()` function that allows you to extract tables from HTML web pages and convert them into Pandas DataFrames. This function is particularly useful for web scraping tasks where you need to extract data from HTML tables on a web page. The `read_html()` function can automatically detect and parse HTML tables from a web page and return them as a list of DataFrames. You can then manipulate the DataFrames using Pandas to perform further analysis or export the data to other formats."
   ]
  },
  {
   "cell_type": "code",
   "execution_count": 10,
   "metadata": {
    "slideshow": {
     "slide_type": "subslide"
    }
   },
   "outputs": [
    {
     "data": {
      "text/plain": [
       "0          a2 Milk Company\n",
       "1                    Adbri\n",
       "2    Abacus Property Group\n",
       "3               AGL Energy\n",
       "4         Auckland Airport\n",
       "Name: Company, dtype: object"
      ]
     },
     "execution_count": 10,
     "metadata": {},
     "output_type": "execute_result"
    }
   ],
   "source": [
    "# We will use read_html() to scrape the constituent stocks of the ASX200 index from Wikipedia\n",
    "asx200 = \"https://en.wikipedia.org/wiki/S%26P/ASX_200\"\n",
    "data = pd.read_html(asx200)\n",
    "\n",
    "for table in data:\n",
    "    if \"Company\" in table.columns:\n",
    "        asx200_constituents = table\n",
    "        break\n",
    "\n",
    "asx200_constituents = asx200_constituents[\"Company\"]\n",
    "asx200_constituents.head()"
   ]
  },
  {
   "cell_type": "markdown",
   "metadata": {
    "slideshow": {
     "slide_type": "slide"
    }
   },
   "source": [
    "## IPyWidgets\n",
    "\n",
    "IPyWidgets is a Python library that allows you to create interactive widgets in Jupyter Notebooks. These widgets enable users to interact with your code visually without having to manually rerun cells, making your notebooks more dynamic and user-friendly.\n",
    "\n",
    "The provided code demonstrates how to create and use interactive widgets to input a stock code, trigger a function to calculate financial ratios, and display the results. "
   ]
  },
  {
   "cell_type": "code",
   "execution_count": 11,
   "metadata": {
    "slideshow": {
     "slide_type": "subslide"
    }
   },
   "outputs": [
    {
     "data": {
      "application/vnd.jupyter.widget-view+json": {
       "model_id": "c0598217375842c8acfabfca972dddc5",
       "version_major": 2,
       "version_minor": 0
      },
      "text/plain": [
       "Text(value='', description='Stock code:', placeholder='Stock code')"
      ]
     },
     "metadata": {},
     "output_type": "display_data"
    },
    {
     "data": {
      "application/vnd.jupyter.widget-view+json": {
       "model_id": "459f4b4b37bd435bb1010bfa69108b40",
       "version_major": 2,
       "version_minor": 0
      },
      "text/plain": [
       "Button(description='Submit', icon='check', style=ButtonStyle(), tooltip='Click me')"
      ]
     },
     "metadata": {},
     "output_type": "display_data"
    },
    {
     "data": {
      "application/vnd.jupyter.widget-view+json": {
       "model_id": "ab8005ecb229420899f319af74fde52c",
       "version_major": 2,
       "version_minor": 0
      },
      "text/plain": [
       "Output()"
      ]
     },
     "metadata": {},
     "output_type": "display_data"
    }
   ],
   "source": [
    "import ipywidgets as widgets\n",
    "from IPython.display import display\n",
    "\n",
    "# Create a text input widget\n",
    "stock_code_input = widgets.Text(\n",
    "    value='',\n",
    "    placeholder='Stock code',\n",
    "    description='Stock code:',\n",
    "    disabled=False\n",
    ")\n",
    "\n",
    "# Create a button widget\n",
    "submit_button = widgets.Button(\n",
    "    description='Submit',\n",
    "    disabled=False,\n",
    "    button_style='', # 'success', 'info', 'warning', 'danger' or ''\n",
    "    tooltip='Click me',\n",
    "    icon='check'\n",
    ")\n",
    "\n",
    "# Create an output widget\n",
    "output = widgets.Output()\n",
    "\n",
    "# Define the function to handle button click\n",
    "def on_button_click(b):\n",
    "    with output:\n",
    "        output.clear_output()\n",
    "        stock_code = stock_code_input.value\n",
    "\n",
    "        calculate_ratios(stock_code)\n",
    "\n",
    "# Attach the function to the button click event\n",
    "submit_button.on_click(on_button_click)\n",
    "\n",
    "# Display the widgets\n",
    "display(stock_code_input, submit_button, output)"
   ]
  },
  {
   "cell_type": "markdown",
   "metadata": {
    "slideshow": {
     "slide_type": "slide"
    }
   },
   "source": [
    "## Reading Files Into Python\n",
    "\n",
    "We can read different types of files into Python. This section will show two ways of reading files, including a .txt file and a .csv file."
   ]
  },
  {
   "cell_type": "code",
   "execution_count": 12,
   "metadata": {
    "slideshow": {
     "slide_type": "subslide"
    }
   },
   "outputs": [
    {
     "name": "stdout",
     "output_type": "stream",
     "text": [
      "On track for 2030 and long term decarb targets: BHP has delivered strong results in the last two years with decarbonisation achieved\n",
      "ahead of its net zero trajectory. However, the company has highlighted uncertainties in the medium to longer term, as further GHG reduction\n",
      "would rely on new technologies that are not available yet. While organic growth presents a headwind for decarbonisation, BHP expects the additional emissions to be more than offset by new renewable\n",
      "Power Purchase Agreements. The capital commitment of ~US$4b is a nominal value, and we see upside risk to the Capex commitment given\n",
      "uncertainness of future technology availability and inflation pressures.\n",
      "Clarity on asset-level plans: The update provided further clarity on decarbonisation plans at the asset level, which we believe would be\n",
      "well-received by the market. Chilean operations will focus on diesel displacement at its boilers and truck fleet, while Australian assets will\n",
      "prioritise renewable power purchasing and decarbonisation at its trucks and locomotives.\n",
      "Fleet electrification the core to diesel displacement: For diesel displacement, BHP is firmly pursing the electrification of its large haul\n",
      "truck fleets. The company's studies highlighted that electricity as a fuel source for trucks boasts a high overall efficiency ratio of ~80%. This\n",
      "compares to a ratio of merely ~30% from hydrogen or diesel trucks.\n",
      "  Expiration Date  Last Sale    Net     Bid      Ask  Volume   IV  Delta  \\\n",
      "0      2025-01-29       0.00  0.000  3625.8  3649.80       0  0.0    1.0   \n",
      "1      2025-01-29       0.05  0.025     0.0     0.05      11  0.0    0.0   \n",
      "2      2025-01-29       0.00  0.000  3425.9  3449.90       0  0.0    1.0   \n",
      "3      2025-01-29       0.15  0.000     0.0     0.05       0  0.0    0.0   \n",
      "4      2025-01-29       0.00  0.000  3226.0  3250.00       0  0.0    1.0   \n",
      "\n",
      "   Gamma  Open Interest  Strike  Type  Index Spot  \n",
      "0    0.0              0  2400.0  Call   6039.3101  \n",
      "1    0.0            337  2400.0   Put   6039.3101  \n",
      "2    0.0              7  2600.0  Call   6039.3101  \n",
      "3    0.0            319  2600.0   Put   6039.3101  \n",
      "4    0.0              7  2800.0  Call   6039.3101  \n"
     ]
    }
   ],
   "source": [
    "# Read commentary from a text file\n",
    "commentary = \"\"\n",
    "with open(\"example_files/commentary.txt\", \"r\") as file:\n",
    "    commentary = file.read()\n",
    "\n",
    "print(commentary)\n",
    "\n",
    "# Read data from a CSV file\n",
    "options_data = pd.read_csv(\"example_files/spx_options_combined.csv\")\n",
    "print(options_data.head())"
   ]
  },
  {
   "cell_type": "markdown",
   "metadata": {
    "slideshow": {
     "slide_type": "slide"
    }
   },
   "source": [
    "## FPDF\n",
    "\n",
    "FPDF is a lightweight Python library that enables you to programmatically create PDF documents. It allows for adding pages, custom headers and footers, formatted text, images, and more. With FPDF, you can  generate professional reports directly from Python code.\n"
   ]
  },
  {
   "cell_type": "code",
   "execution_count": 13,
   "metadata": {
    "slideshow": {
     "slide_type": "subslide"
    }
   },
   "outputs": [
    {
     "name": "stdout",
     "output_type": "stream",
     "text": [
      "PDF 'example_files/demo.pdf' created successfully!\n"
     ]
    }
   ],
   "source": [
    "from fpdf import FPDF\n",
    "\n",
    "# Define a custom PDF class with header and footer methods\n",
    "class PDF(FPDF):\n",
    "    def header(self):\n",
    "        # Set the font for the header\n",
    "        self.set_font('Arial', 'B', 15)\n",
    "        # Move to the right\n",
    "        self.cell(80)\n",
    "        # Add the title cell; the parameters define width, height, text, border, position, and alignment\n",
    "        self.cell(30, 10, 'Python PDF Creation Demo', 0, 0, 'C')\n",
    "        # Line break with height 20\n",
    "        self.ln(20)\n",
    "\n",
    "    def footer(self):\n",
    "        # Position 15 mm from the bottom\n",
    "        self.set_y(-15)\n",
    "        # Set the font for the footer\n",
    "        self.set_font('Arial', 'I', 8)\n",
    "        # Add a centred page number\n",
    "        page_no = f'Page {self.page_no()}'\n",
    "        self.cell(0, 10, page_no, 0, 0, 'C')\n",
    "\n",
    "# Create an instance of our PDF class\n",
    "pdf = PDF()\n",
    "pdf.alias_nb_pages()  # Allows total page numbers to be referenced if needed\n",
    "pdf.add_page()        # Add the first page\n",
    "\n",
    "# Set font for the main content\n",
    "pdf.set_font('Times', '', 12)\n",
    "\n",
    "# Add a centered title cell\n",
    "pdf.cell(0, 10, 'Welcome to the Python PDF Demo!', 0, 1, 'C')\n",
    "\n",
    "# Add multi-line text using multi_cell for automatic wrapping\n",
    "text = (\n",
    "    \"This is a demo PDF created using Python's FPDF library. \"\n",
    "    \"In this document, we demonstrate multiple functionalities including:\\n\\n\"\n",
    "    \"- Custom headers and footers with page numbering\\n\"\n",
    "    \"- Multi-line text formatting using multi_cell\\n\"\n",
    "    \"- Multiple pages\\n\\n\"\n",
    "    \"FPDF makes it easy to generate PDF files programmatically, \"\n",
    "    \"allowing you to customize layouts, add text, images, tables, and more.\"\n",
    ")\n",
    "pdf.multi_cell(0, 10, text)\n",
    "\n",
    "# Add a second page with additional content\n",
    "pdf.add_page()\n",
    "pdf.set_font('Times', '', 12)\n",
    "pdf.cell(0, 10, 'Second Page Content', 0, 1, 'C')\n",
    "additional_text = (\n",
    "    \"Here is some more content on the second page. \"\n",
    "    \"You can continue to add more pages as needed to complete your report or document. \"\n",
    "    \"FPDF is a powerful tool for creating dynamic PDF documents using Python.\"\n",
    ")\n",
    "pdf.multi_cell(0, 10, additional_text)\n",
    "\n",
    "# Save the PDF to a file\n",
    "output_filename = \"example_files/demo.pdf\"\n",
    "try:\n",
    "    pdf.output(output_filename)\n",
    "    print(f\"PDF '{output_filename}' created successfully!\")\n",
    "except Exception as e:\n",
    "    print(\"An error occurred while creating the PDF:\", e)\n"
   ]
  },
  {
   "cell_type": "markdown",
   "metadata": {
    "slideshow": {
     "slide_type": "slide"
    }
   },
   "source": [
    "## Reading Excel Files with Pandas\n",
    "Pandas provides a highly efficient and flexible way to read Excel files into DataFrames, allowing you to easily manipulate and analyse your data in Python. The process involves using the read_excel function, which offers a range of parameters to customize how data is imported. You can specify the file path, select a particular worksheet, choose specific columns, skip unnecessary rows, and limit the number of rows to read. This flexibility makes it possible to focus on just the relevant parts of your data.\n",
    "\n"
   ]
  },
  {
   "cell_type": "code",
   "execution_count": 14,
   "metadata": {
    "slideshow": {
     "slide_type": "subslide"
    }
   },
   "outputs": [
    {
     "name": "stdout",
     "output_type": "stream",
     "text": [
      "Excel NPV: 34,410.25\n",
      "Python NPV: 34,410.25\n"
     ]
    }
   ],
   "source": [
    "import pandas as pd\n",
    "\n",
    "# Read the excel file\n",
    "df = pd.read_excel('example_files/DCF_test.xlsx', sheet_name=\"Sheet1\", usecols='A:L', skiprows=0, nrows=4)\n",
    "\n",
    "# We can check if Python and Excel achieve the same NPV value\n",
    "\n",
    "excel_npv = df.iloc[-1,1] # get the NPV value from the last row and second column\n",
    "\n",
    "python_npv = sum(df.iloc[0, 1:] * df.iloc[1, 1:]) # calculate the NPV using Python\n",
    "\n",
    "print(f'Excel NPV: {excel_npv:,.2f}')\n",
    "print(f'Python NPV: {python_npv:,.2f}')\n"
   ]
  }
 ],
 "metadata": {
  "kernelspec": {
   "display_name": "Python 3",
   "language": "python",
   "name": "python3"
  },
  "language_info": {
   "codemirror_mode": {
    "name": "ipython",
    "version": 3
   },
   "file_extension": ".py",
   "mimetype": "text/x-python",
   "name": "python",
   "nbconvert_exporter": "python",
   "pygments_lexer": "ipython3",
   "version": "3.12.1"
  }
 },
 "nbformat": 4,
 "nbformat_minor": 2
}
