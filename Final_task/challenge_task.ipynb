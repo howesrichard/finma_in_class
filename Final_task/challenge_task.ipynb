{
 "cells": [
  {
   "cell_type": "markdown",
   "metadata": {},
   "source": [
    "# finma Final Task - Challenge Difficulty\n",
    "This task is designed for those participants who are experienced in Python or and have the confidence in their Python ability to attempt a more challenging task.\n",
    "\n",
    "The task draws from the finance concepts discussed in the FM_yield_curve repo and the FM_binomial_monte repo.\n",
    "\n",
    "The task requires your group to develop software that simulates and interest rate market and identify arbitrage opportunities in the market.\n",
    "\n",
    "## Forming groups\n",
    "You must form groups of, ideally 5 or 6, to tackle the task.\n",
    "\n",
    "### Code owner within group\n",
    "You will appoint 1 code owner (\"CO\") who will fork the FM_yield_curve repo from the howesrichard GitHub account into the CO's own GitHub account.\n",
    "The CO will then invite the other members of the team as collaborators.\n",
    "I suggest that the CO creates a branch rule in settings (as demonstrated in our seminar) which requires approval from code owners.\n",
    "\n",
    "### Collaborators\n",
    "Collaborators will each create a branch (I suggest with your name or account name in the branch name) where your work will live.\n",
    "\n",
    "Collaborators will need to ensure that you are keeping your branch up to date with any changes made to the main branch.\n",
    "\n",
    "Collaborators will make pull requests to the CO to incorporate changes.   I suggest doing this a number of times to incorporate progress.   For example if your work is a function that returns something to be used in the primary .ipynb or .py element of the software, then start by creating a simpler function that returns dummy data or content of the form you plan to implement and doing a pull request for this.   That way the CO can incorporate your function (with dummy data) into the software.   Then you can refine and improve your function through time.\n",
    "\n",
    "## some comments on how to proceed\n",
    "Get together as a group and plan what you want the functionality to be.\n",
    "\n",
    "Agree an implementation roadmap that starts with low hanging fruit so that you know you can deliver a MVP (minimum viable product).\n",
    "\n",
    "Assign roles to collaborators to build specific elements.   Give thought to how this will be co-ordinated.   It works best when collaborators are not working on the same files (for obvious, version-control reasons).   It also works best when you have agreed inputs and outputs for functions, or agreed attributes and methods for objects (Classes).    In other words, get the architecture agreed before you start coding in the actual functionality.\n",
    "\n",
    "## some comments on the task itself\n",
    "The FM_yield_curve repo uses a range of interest rate financial instruments (cash flow, bank bill, bond, portfolio).\n",
    "\n",
    "You are required to create a simulation of the market for these instruments.   \n",
    "- The instruments will move around (rates will change) in your simulation.\n",
    "- I suggest using geometric browning motion to create the movement.\n",
    "- You will create a visualisation of the yield curve moving around as the underlying instruments move around.\n",
    "\n",
    "### Extension level 1\n",
    "- you will create a web server (perhaps use Streamlit or some other package that one of you has experience in) allowing \"users\" to bring up a display of your market simulation moving around.\n",
    "\n",
    "### Extension level 2\n",
    "- you will create a new instrument - ForwardBankBill, which is a contract to buy or sell (issue) a bank bill on a future date.\n",
    "- you will allow the prices of this new instrument to move around.\n",
    "- you will display arbitrage or relative value opporunities.   Note that the yield curve will tell you what the price of a ForwardBankBill should be.   If it is different, there is relative value or arbitrage.\n",
    "\n",
    "### Extension level 3\n",
    "- do the same as extension level 2 for a Bond.\n",
    "\n",
    "### Extension level 4 (probably too much work)\n",
    "- you will create an FX market and interest rate instruments in 2 currencies \n",
    "- you will create a forward FX market and display arbitrage and relative value opportunities that arise due to disconnects between forward FX and interest rate markets.\n",
    "\n"
   ]
  }
 ],
 "metadata": {
  "language_info": {
   "name": "python"
  }
 },
 "nbformat": 4,
 "nbformat_minor": 2
}
