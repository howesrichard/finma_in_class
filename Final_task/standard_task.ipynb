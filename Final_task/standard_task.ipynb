{
 "cells": [
  {
   "cell_type": "markdown",
   "metadata": {},
   "source": [
    "# finma Final Task - Standard Difficulty\n",
    "This task is designed for those participants who are new to Python or who lack the confidence in their Python ability to attempt a more challenging task.\n",
    "\n",
    "The task draws from the finance concepts discussed in the FM_yield_curve repo and the FM_binomial_monte repo.\n",
    "\n",
    "The task requires your group to develop software to value an exotic interest rate option using a monte carlo methodology and building on the FM_yield_curve repo in an object oriented fashion.\n",
    "\n",
    "## Forming groups\n",
    "You must form groups of, ideally 5 or 6, to tackle the task.\n",
    "\n",
    "### Code owner within group\n",
    "You will appoint 1 code owner (\"CO\") who will fork the FM_yield_curve repo from the howesrichard GitHub account into the CO's own GitHub account.\n",
    "The CO will then invite the other members of the team as collaborators.\n",
    "I suggest that the CO creates a branch rule in settings (as demonstrated in our seminar) which requires approval from code owners.\n",
    "\n",
    "### Collaborators\n",
    "Collaborators will each create a branch (I suggest with your name or account name in the branch name) where your work will live.\n",
    "\n",
    "Collaborators will need to ensure that you are keeping your branch up to date with any changes made to the main branch.\n",
    "\n",
    "Collaborators will make pull requests to the CO to incorporate changes.   I suggest doing this a number of times to incorporate progress.   For example if your work is a function that returns something to be used in the primary .ipynb or .py element of the software, then start by creating a simpler function that returns dummy data or content of the form you plan to implement and doing a pull request for this.   That way the CO can incorporate your function (with dummy data) into the software.   Then you can refine and improve your function through time.\n",
    "\n",
    "## Some comments on how to proceed\n",
    "Get together as a group and plan what you want the functionality to be.\n",
    "\n",
    "Agree an implementation roadmap that starts with low hanging fruit so that you know you can deliver a MVP (minimum viable product).\n",
    "\n",
    "Assign roles to collaborators to build specific elements.   Give thought to how this will be co-ordinated.   It works best when collaborators are not working on the same files (for obvious, version-control reasons).   It also works best when you have agreed inputs and outputs for functions, or agreed attributes and methods for objects (Classes).    In other words, get the architecture agreed before you start coding in the actual functionality.\n",
    "\n",
    "## Some comments on the task itself\n",
    "Interest rate options are important financial instruments.   They include caps and floors, swaptions, and bond options.   They also include \"Exotic Options\" like barrier options (which appear or disappear) when certain conditions are met.\n",
    "\n",
    "You are being asked to create new object types (via Class statements) which represent the real world instruments being interest rate options.\n",
    "\n",
    "These new interest rate option objects (and there may be many of them) will interact with other objects (such as the yield curve).\n",
    "\n",
    "Your software should, at the very least, be capable of pricing an interest rate option.   Ideally, it will price a range of different interest rate option types.\n",
    "\n",
    "An extension element would be that it is able to build a delta-hedge portfolio for an interest rate option."
   ]
  }
 ],
 "metadata": {
  "language_info": {
   "name": "python"
  }
 },
 "nbformat": 4,
 "nbformat_minor": 2
}
